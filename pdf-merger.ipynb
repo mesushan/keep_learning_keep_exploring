{
 "cells": [
  {
   "cell_type": "markdown",
   "id": "enhanced-carpet",
   "metadata": {},
   "source": [
    "#### Notebook to merge multiple pdfs to one\n",
    "\n",
    "For more info visit this [link](https://caendkoelsch.wordpress.com/2019/05/10/merging-multiple-pdfs-into-a-single-pdf/)"
   ]
  },
  {
   "cell_type": "code",
   "execution_count": 1,
   "id": "loved-finance",
   "metadata": {},
   "outputs": [],
   "source": [
    "#!pip install nb_black"
   ]
  },
  {
   "cell_type": "code",
   "execution_count": 2,
   "id": "deluxe-wrong",
   "metadata": {},
   "outputs": [],
   "source": [
    "%load_ext watermark\n",
    "%load_ext lab_black"
   ]
  },
  {
   "cell_type": "code",
   "execution_count": 3,
   "id": "common-shell",
   "metadata": {},
   "outputs": [],
   "source": [
    "#!pip install PyPDF2"
   ]
  },
  {
   "cell_type": "code",
   "execution_count": 4,
   "id": "commercial-sunglasses",
   "metadata": {},
   "outputs": [],
   "source": [
    "import PyPDF2"
   ]
  },
  {
   "cell_type": "code",
   "execution_count": 5,
   "id": "assumed-bernard",
   "metadata": {},
   "outputs": [
    {
     "name": "stdout",
     "output_type": "stream",
     "text": [
      "PyPDF2 1.26.0\n",
      "Sudarshan Koirala \n",
      "\n",
      "CPython 3.6.9\n",
      "IPython 7.16.1\n"
     ]
    }
   ],
   "source": [
    "%watermark -a \"Sudarshan Koirala\" -iv -v"
   ]
  },
  {
   "cell_type": "code",
   "execution_count": 6,
   "id": "opening-purchase",
   "metadata": {},
   "outputs": [],
   "source": [
    "# Open the files that have to be merged one by one\n",
    "pdf1File = open(\"firstfile.pdf\", \"rb\")\n",
    "pdf2File = open(\"secondfile.pdf\", \"rb\")\n",
    "pdf3File = open(\"thirdfile.pdf\", \"rb\")\n",
    "\n",
    "# Read the files that you have opened\n",
    "pdf1Reader = PyPDF2.PdfFileReader(pdf1File)\n",
    "pdf2Reader = PyPDF2.PdfFileReader(pdf2File)\n",
    "pdf3Reader = PyPDF2.PdfFileReader(pdf3File)\n",
    "\n",
    "# Create a new PdfFileWriter object which represents a blank PDF document\n",
    "pdfWriter = PyPDF2.PdfFileWriter()\n",
    "\n",
    "# Loop through all the pagenumbers for the first document\n",
    "for pageNum in range(pdf1Reader.numPages):\n",
    "    pageObj = pdf1Reader.getPage(pageNum)\n",
    "    pdfWriter.addPage(pageObj)\n",
    "\n",
    "# Loop through all the pagenumbers for the second document\n",
    "for pageNum in range(pdf2Reader.numPages):\n",
    "    pageObj = pdf2Reader.getPage(pageNum)\n",
    "    pdfWriter.addPage(pageObj)\n",
    "\n",
    "# Loop through all the pagenumbers for the third document\n",
    "for pageNum in range(pdf3Reader.numPages):\n",
    "    pageObj = pdf3Reader.getPage(pageNum)\n",
    "    pdfWriter.addPage(pageObj)\n",
    "\n",
    "# Now that you have copied all the pages in both the documents, write them into the a new document\n",
    "pdfOutputFile = open(\"merged-all-files.pdf\", \"wb\")\n",
    "pdfWriter.write(pdfOutputFile)\n",
    "\n",
    "# Close all the files - Created as well as opened\n",
    "pdfOutputFile.close()\n",
    "pdf1File.close()\n",
    "pdf2File.close()"
   ]
  },
  {
   "cell_type": "code",
   "execution_count": null,
   "id": "greatest-stephen",
   "metadata": {},
   "outputs": [],
   "source": []
  }
 ],
 "metadata": {
  "kernelspec": {
   "display_name": "Python 3",
   "language": "python",
   "name": "python3"
  },
  "language_info": {
   "codemirror_mode": {
    "name": "ipython",
    "version": 3
   },
   "file_extension": ".py",
   "mimetype": "text/x-python",
   "name": "python",
   "nbconvert_exporter": "python",
   "pygments_lexer": "ipython3",
   "version": "3.6.9"
  }
 },
 "nbformat": 4,
 "nbformat_minor": 5
}
