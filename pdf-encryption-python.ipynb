{
 "cells": [
  {
   "cell_type": "markdown",
   "id": "331e0504-ca55-4099-a403-405a660c03b7",
   "metadata": {},
   "source": [
    "#### PDF encryption with python\n",
    "Easiest way to encrypt pdf for security using python library"
   ]
  },
  {
   "cell_type": "code",
   "execution_count": 1,
   "id": "1ae29d8e-eef8-4772-8035-b31e71b65469",
   "metadata": {},
   "outputs": [],
   "source": [
    "from PyPDF2 import PdfFileReader, PdfFileWriter"
   ]
  },
  {
   "cell_type": "markdown",
   "id": "94e9298d-793a-4821-9865-97b7dbcec2fa",
   "metadata": {},
   "source": [
    "#### Open the pdf before encryption"
   ]
  },
  {
   "cell_type": "code",
   "execution_count": 2,
   "id": "a9c240a8-6eec-476b-bb46-7059bf65a17c",
   "metadata": {},
   "outputs": [
    {
     "data": {
      "text/plain": [
       "<PyPDF2.pdf.PdfFileReader at 0x7f8c3402fd00>"
      ]
     },
     "execution_count": 2,
     "metadata": {},
     "output_type": "execute_result"
    }
   ],
   "source": [
    "# provide the pdf you want to encrypt\n",
    "read_pdf = PdfFileReader('Instructions_GSE.pdf')\n",
    "read_pdf"
   ]
  },
  {
   "cell_type": "code",
   "execution_count": 3,
   "id": "13f1d6a7-9280-4485-b459-a8d69e0d8c89",
   "metadata": {},
   "outputs": [],
   "source": [
    "# create pdf writer object\n",
    "encrypt_pdf = PdfFileWriter()\n",
    "\n",
    "#read all the pages and add to pdf file writer\n",
    "for i in range(read_pdf.numPages):\n",
    "    page_details = read_pdf.getPage(i)\n",
    "    \n",
    "    # add to encrypt output pdf\n",
    "    encrypt_pdf.addPage(page_details)"
   ]
  },
  {
   "cell_type": "code",
   "execution_count": 4,
   "id": "11a0c31a-eaf8-47ed-833c-24569ba46589",
   "metadata": {},
   "outputs": [],
   "source": [
    "# provide password and encrypt with that password (replace * with actual password)\n",
    "password = \"*******\"\n",
    "\n",
    "encrypt_pdf.encrypt(password)"
   ]
  },
  {
   "cell_type": "code",
   "execution_count": 7,
   "id": "4d90c53e-fb66-473b-a3bf-fe70a8feffce",
   "metadata": {},
   "outputs": [],
   "source": [
    "# dump the encrypted pdf file\n",
    "with open('encrypted_instructions_GSE.pdf', 'wb') as filename:\n",
    "    encrypt_pdf.write(filename)"
   ]
  },
  {
   "cell_type": "code",
   "execution_count": null,
   "id": "e5378330-b707-44aa-b7fd-7bdb0e6167eb",
   "metadata": {},
   "outputs": [],
   "source": []
  }
 ],
 "metadata": {
  "kernelspec": {
   "display_name": "Python 3",
   "language": "python",
   "name": "python3"
  },
  "language_info": {
   "codemirror_mode": {
    "name": "ipython",
    "version": 3
   },
   "file_extension": ".py",
   "mimetype": "text/x-python",
   "name": "python",
   "nbconvert_exporter": "python",
   "pygments_lexer": "ipython3",
   "version": "3.8.5"
  }
 },
 "nbformat": 4,
 "nbformat_minor": 5
}
